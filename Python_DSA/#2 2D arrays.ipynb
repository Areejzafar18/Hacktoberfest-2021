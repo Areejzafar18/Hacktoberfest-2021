{
 "cells": [
  {
   "cell_type": "markdown",
   "metadata": {},
   "source": [
    "# <center>🔰 2D Arrays in Python"
   ]
  },
  {
   "cell_type": "markdown",
   "metadata": {},
   "source": [
    "### Two dimensional array is an array within an array.\n",
    "\n",
    "- It is an array of arrays. \n",
    "- In this type of array the position of an data element is referred by two indices instead of one.\n",
    "- So it represents a table with rows and columns of data.\n",
    "- It can also represent as a Matrix\n",
    "\n",
    "![](https://www.codingeek.com/wp-content/uploads/2017/01/2D-arrays.png)"
   ]
  },
  {
   "cell_type": "markdown",
   "metadata": {},
   "source": [
    "#### example of 1d array"
   ]
  },
  {
   "cell_type": "code",
   "execution_count": 1,
   "metadata": {},
   "outputs": [
    {
     "name": "stdout",
     "output_type": "stream",
     "text": [
      "[0, 0, 0, 0, 0]\n"
     ]
    }
   ],
   "source": [
    "X = 5\n",
    "arr = [0]*X\n",
    "print(arr)"
   ]
  },
  {
   "cell_type": "markdown",
   "metadata": {},
   "source": [
    "### Working with  2d array"
   ]
  },
  {
   "cell_type": "code",
   "execution_count": 2,
   "metadata": {},
   "outputs": [
    {
     "data": {
      "text/plain": [
       "[[1, 2, 3], [5, 6, 7], [8, 9, 0]]"
      ]
     },
     "execution_count": 2,
     "metadata": {},
     "output_type": "execute_result"
    }
   ],
   "source": [
    "a_2d = [[1,2,3],[5,6,7],[8,9,0]]\n",
    "a_2d"
   ]
  },
  {
   "cell_type": "code",
   "execution_count": 3,
   "metadata": {},
   "outputs": [
    {
     "data": {
      "text/plain": [
       "3"
      ]
     },
     "execution_count": 3,
     "metadata": {},
     "output_type": "execute_result"
    }
   ],
   "source": [
    "# length of an array\n",
    "\n",
    "len(a_2d)"
   ]
  },
  {
   "cell_type": "code",
   "execution_count": 4,
   "metadata": {},
   "outputs": [
    {
     "data": {
      "text/plain": [
       "[5, 6, 7]"
      ]
     },
     "execution_count": 4,
     "metadata": {},
     "output_type": "execute_result"
    }
   ],
   "source": [
    "# Access 2D Array\n",
    "\n",
    "a_2d[1]\n",
    "\n",
    "# From the array a_2d we accessed the array which is at position 1 starting with 0"
   ]
  },
  {
   "cell_type": "code",
   "execution_count": 5,
   "metadata": {},
   "outputs": [
    {
     "data": {
      "text/plain": [
       "7"
      ]
     },
     "execution_count": 5,
     "metadata": {},
     "output_type": "execute_result"
    }
   ],
   "source": [
    "# Access 2D Array\n",
    "\n",
    "a_2d[1][2]\n",
    "\n",
    "# From the array a_2d we accessed the array which is at position 1 starting with 0 inside that we \n",
    "# accessed the element that is at position 2nd."
   ]
  },
  {
   "cell_type": "code",
   "execution_count": 6,
   "metadata": {},
   "outputs": [
    {
     "data": {
      "text/plain": [
       "[[1, 2, 3], [99, 6, 7], [8, 9, 0]]"
      ]
     },
     "execution_count": 6,
     "metadata": {},
     "output_type": "execute_result"
    }
   ],
   "source": [
    "# replacing the array\n",
    " \n",
    "a_2d[1][0] = 99\n",
    "a_2d\n",
    "\n",
    "# replaced the element which is at pos 1 inside that of position 0 with 99"
   ]
  },
  {
   "cell_type": "code",
   "execution_count": 7,
   "metadata": {},
   "outputs": [
    {
     "data": {
      "text/plain": [
       "[[99, 6, 7], [8, 9, 0]]"
      ]
     },
     "execution_count": 7,
     "metadata": {},
     "output_type": "execute_result"
    }
   ],
   "source": [
    "# Slicing of an array\n",
    "# our new array is afer replacing [[1, 2, 3], [99, 6, 7], [8, 9, 0]]\n",
    "\n",
    "a_2d = a_2d[1:3] #index 1 to 2\n",
    "a_2d"
   ]
  },
  {
   "cell_type": "code",
   "execution_count": 8,
   "metadata": {},
   "outputs": [
    {
     "name": "stdout",
     "output_type": "stream",
     "text": [
      "a\n",
      "b\n",
      "c\n",
      "x\n",
      "y\n",
      "z\n"
     ]
    }
   ],
   "source": [
    "# Traversing / iterator \n",
    "\n",
    "# -method1\n",
    "\n",
    "b_2d = [['a','b','c'],\n",
    "        ['x','y','z']]\n",
    "\n",
    "for row in b_2d:\n",
    "    for item in row:\n",
    "        print(item)"
   ]
  },
  {
   "cell_type": "code",
   "execution_count": 9,
   "metadata": {},
   "outputs": [
    {
     "name": "stdout",
     "output_type": "stream",
     "text": [
      "a\n",
      "b\n",
      "c\n",
      "x\n",
      "y\n",
      "z\n"
     ]
    }
   ],
   "source": [
    "# -method2\n",
    "\n",
    "for i in range(len(b_2d)):\n",
    "    for j in range(len(b_2d[i])):\n",
    "        print(b_2d[i][j])\n",
    "\n",
    "# This method is the BEST for Traversing"
   ]
  },
  {
   "cell_type": "markdown",
   "metadata": {},
   "source": [
    "### Q1) Write a program to traverse every element of the 2D array.  "
   ]
  },
  {
   "cell_type": "markdown",
   "metadata": {},
   "source": [
    "#####  Answer of Q1"
   ]
  },
  {
   "cell_type": "code",
   "execution_count": 10,
   "metadata": {},
   "outputs": [
    {
     "name": "stdout",
     "output_type": "stream",
     "text": [
      "72|85|87|90|69|\n",
      "80|87|65|89|85|\n",
      "96|91|70|78|97|\n",
      "90|93|91|90|94|\n",
      "57|89|82|69|60|\n"
     ]
    }
   ],
   "source": [
    "data = [ [72, 85, 87, 90, 69], [80, 87, 65, 89, 85], [96, 91, 70, 78, 97], [90, 93, 91, 90, 94], [57, 89, 82, 69, 60] ]  \n",
    "  \n",
    "for x in data:  # outer loop  \n",
    "    for i in x:  # inner loop  \n",
    "        print(i, end = \"|\") # print the elements  \n",
    "    print()  "
   ]
  },
  {
   "cell_type": "markdown",
   "metadata": {},
   "source": [
    "### Q2) You are given a 2d array with same number of rows and columns. write a function that adds up the diagonal elements and returns the sum."
   ]
  },
  {
   "cell_type": "markdown",
   "metadata": {},
   "source": [
    "eg: <br>\n",
    "[[1,2,3], <br>\n",
    " [4,5,6],<br>\n",
    " [7,8,9]]<br>\n",
    " <br>\n",
    "diagonal elements are 1,5 and 6 . so answer should return 15"
   ]
  },
  {
   "cell_type": "markdown",
   "metadata": {},
   "source": [
    "#####  Answer of Q2"
   ]
  },
  {
   "cell_type": "code",
   "execution_count": 11,
   "metadata": {},
   "outputs": [],
   "source": [
    "def diagonal_sum(given_2d):\n",
    "    total = 0\n",
    "    for i in range(len(given_2d)):\n",
    "        total += given_2d[i][i]\n",
    "    return total\n"
   ]
  },
  {
   "cell_type": "code",
   "execution_count": 12,
   "metadata": {},
   "outputs": [
    {
     "data": {
      "text/plain": [
       "2"
      ]
     },
     "execution_count": 12,
     "metadata": {},
     "output_type": "execute_result"
    }
   ],
   "source": [
    "diagonal_sum([[1,0],\n",
    "              [0,1]])\n",
    "\n",
    "# Here the diagonals elements are 1,1. After adding it will return op as 2."
   ]
  },
  {
   "cell_type": "code",
   "execution_count": 13,
   "metadata": {},
   "outputs": [
    {
     "data": {
      "text/plain": [
       "15"
      ]
     },
     "execution_count": 13,
     "metadata": {},
     "output_type": "execute_result"
    }
   ],
   "source": [
    "diagonal_sum([[1,2,3],\n",
    "              [4,5,6],\n",
    "              [7,8,9]])\n",
    "\n",
    "# Here the diagonals elements are 1,5,9. After adding it will return op as 15."
   ]
  },
  {
   "cell_type": "markdown",
   "metadata": {},
   "source": [
    "### Q3) Logic Problem -> Can rooks attack each other in a chess board?"
   ]
  },
  {
   "cell_type": "markdown",
   "metadata": {},
   "source": [
    "#### what's the size of the chessboard?\n",
    "it could be any size (2x2 or 99x99)\n",
    "\n",
    "#### is it always square shaped?\n",
    "yes (columns = rows)\n",
    "\n",
    "#### could be array empty?\n",
    "no, size of board will atleast 1x1"
   ]
  },
  {
   "cell_type": "markdown",
   "metadata": {},
   "source": [
    "#####  Answer of Q3"
   ]
  },
  {
   "cell_type": "code",
   "execution_count": 14,
   "metadata": {},
   "outputs": [],
   "source": [
    "def rooks_are_safe(chessboard):\n",
    "    n = len(chessboard)\n",
    "    \n",
    "    for row_i in range(n):\n",
    "        row_count = 0\n",
    "        for col_i in range(n):\n",
    "            row_count += chessboard[row_i][col_i]\n",
    "        if row_count > 1:\n",
    "            return False\n",
    "        \n",
    "    for col_i in range(n):\n",
    "        col_count = 0\n",
    "        for row_i in range(n):\n",
    "            col_count += chessboard[row_i][col_i]\n",
    "        if col_count > 1:\n",
    "            return False\n",
    "        \n",
    "    return True\n"
   ]
  },
  {
   "cell_type": "code",
   "execution_count": 15,
   "metadata": {},
   "outputs": [
    {
     "data": {
      "text/plain": [
       "True"
      ]
     },
     "execution_count": 15,
     "metadata": {},
     "output_type": "execute_result"
    }
   ],
   "source": [
    "rooks_are_safe(\n",
    "[[1,0,0,0],\n",
    " [0,1,0,0],\n",
    " [0,0,0,1],\n",
    " [0,0,0,0]]\n",
    ")\n",
    "\n",
    "#these are safe because no one can attack each other"
   ]
  },
  {
   "cell_type": "code",
   "execution_count": 16,
   "metadata": {},
   "outputs": [
    {
     "data": {
      "text/plain": [
       "True"
      ]
     },
     "execution_count": 16,
     "metadata": {},
     "output_type": "execute_result"
    }
   ],
   "source": [
    "rooks_are_safe([[1]])"
   ]
  },
  {
   "cell_type": "code",
   "execution_count": 17,
   "metadata": {},
   "outputs": [
    {
     "data": {
      "text/plain": [
       "False"
      ]
     },
     "execution_count": 17,
     "metadata": {},
     "output_type": "execute_result"
    }
   ],
   "source": [
    "rooks_are_safe(\n",
    "[[1,0],\n",
    " [1,0]])"
   ]
  },
  {
   "cell_type": "code",
   "execution_count": 18,
   "metadata": {},
   "outputs": [
    {
     "data": {
      "text/plain": [
       "False"
      ]
     },
     "execution_count": 18,
     "metadata": {},
     "output_type": "execute_result"
    }
   ],
   "source": [
    "rooks_are_safe(\n",
    "[[0,0,0],\n",
    " [1,0,1],\n",
    " [0,0,0]\n",
    "])"
   ]
  },
  {
   "cell_type": "markdown",
   "metadata": {},
   "source": [
    "## `Find me around the web 🌎:`\n",
    "\n",
    "\n",
    "* <a href=\"http://tancodes.atspace.cc/\" target=\"blank\">Portfolio </a>\n",
    "* <a href=\"https://instagram.com/_tancodes_\" target=\"blank\">   Instagram </a>\n",
    "* <a href=\"https://www.linkedin.com/in/tanmay-barvi-2a0206126/\" target=\"blank\">  LinkedIn </a>\n",
    "* <a href=\"https://twitter.com/tancodes\" target=\"blank\"> Twitter </a>\n",
    "* <a href=\"https://www.behance.net/tanmaybrv\" target=\"blank\"> Behance </a>\n",
    "* <a href=\"https://www.youtube.com/channel/UC370GTtJnvWs8wDH9UXoBzQ?view_as=subscriber\" target=\"blank\">  YouTube  </a> \n"
   ]
  },
  {
   "cell_type": "markdown",
   "metadata": {},
   "source": [
    "###  <center> HAPPY CODING WITH PYTHON \n",
    "![](https://img.shields.io/badge/Python-FFD43B?style=for-the-badge&logo=python&logoColor=darkgreen)\n",
    "![](https://forthebadge.com/images/badges/built-with-love.svg)\n",
    "<p align=\"center\">\n",
    "  <img src=\"https://raw.githubusercontent.com/TanCodes/readme_img/main/ezgif-6-c5c72c3f9fb3.gif\">\n",
    "</p>"
   ]
  },
  {
   "cell_type": "code",
   "execution_count": null,
   "metadata": {},
   "outputs": [],
   "source": []
  }
 ],
 "metadata": {
  "kernelspec": {
   "display_name": "Python 3 (ipykernel)",
   "language": "python",
   "name": "python3"
  },
  "language_info": {
   "codemirror_mode": {
    "name": "ipython",
    "version": 3
   },
   "file_extension": ".py",
   "mimetype": "text/x-python",
   "name": "python",
   "nbconvert_exporter": "python",
   "pygments_lexer": "ipython3",
   "version": "3.9.0"
  }
 },
 "nbformat": 4,
 "nbformat_minor": 4
}
